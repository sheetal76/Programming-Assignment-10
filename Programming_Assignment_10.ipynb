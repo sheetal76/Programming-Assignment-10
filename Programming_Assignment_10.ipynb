{
  "nbformat": 4,
  "nbformat_minor": 0,
  "metadata": {
    "colab": {
      "provenance": []
    },
    "kernelspec": {
      "name": "python3",
      "display_name": "Python 3"
    },
    "language_info": {
      "name": "python"
    }
  },
  "cells": [
    {
      "cell_type": "code",
      "execution_count": null,
      "metadata": {
        "id": "s0pA2sbGi4La"
      },
      "outputs": [],
      "source": [
        "#1. Write a Python program to find sum of elements in list?"
      ]
    },
    {
      "cell_type": "code",
      "source": [
        "def find_sum_of_elements(input_list):\n",
        "    # Using the built-in sum function to calculate the sum of elements in the list\n",
        "    result_sum = sum(input_list)\n",
        "    return result_sum\n",
        "\n",
        "user_input = input(\"Enter a list of numbers separated by spaces: \")\n",
        "numbers = [int(num) for num in user_input.split()]\n",
        "\n",
        "sum_of_elements = find_sum_of_elements(numbers)\n",
        "\n",
        "print(\"Sum of elements in the list:\", sum_of_elements)\n"
      ],
      "metadata": {
        "colab": {
          "base_uri": "https://localhost:8080/"
        },
        "id": "Aztn9ojajiH4",
        "outputId": "b0542b7b-2bbf-452d-e330-2c8a7e79ac2a"
      },
      "execution_count": null,
      "outputs": [
        {
          "output_type": "stream",
          "name": "stdout",
          "text": [
            "Enter a list of numbers separated by spaces: 1 2 3 4 5\n",
            "Sum of elements in the list: 15\n"
          ]
        }
      ]
    },
    {
      "cell_type": "code",
      "source": [
        "#2. Write a Python program to Multiply all numbers in the list?"
      ],
      "metadata": {
        "id": "7U2gfZMkjAhi"
      },
      "execution_count": null,
      "outputs": []
    },
    {
      "cell_type": "code",
      "source": [
        "l = [1,2,3,4,5]\n",
        "\n",
        "mul = 1\n",
        "for i in l:\n",
        "    mul *= i\n",
        "\n",
        "print(mul)"
      ],
      "metadata": {
        "colab": {
          "base_uri": "https://localhost:8080/"
        },
        "id": "fIMGKMdylaXD",
        "outputId": "21d84871-d08c-4cd3-ed14-e4dcb9212206"
      },
      "execution_count": null,
      "outputs": [
        {
          "output_type": "stream",
          "name": "stdout",
          "text": [
            "120\n"
          ]
        }
      ]
    },
    {
      "cell_type": "code",
      "source": [
        "#3. Write a Python program to find smallest number in a list?"
      ],
      "metadata": {
        "id": "ai7v6nbujEip"
      },
      "execution_count": null,
      "outputs": []
    },
    {
      "cell_type": "code",
      "source": [
        "def is_smallest(numbers):\n",
        "  smallest=numbers[0]\n",
        "  for i in numbers:\n",
        "    if i<smallest:\n",
        "      smallest=i\n",
        "  return smallest"
      ],
      "metadata": {
        "id": "infYS6azISiJ"
      },
      "execution_count": null,
      "outputs": []
    },
    {
      "cell_type": "code",
      "source": [
        "is_smallest([7,1,5,7,9])"
      ],
      "metadata": {
        "colab": {
          "base_uri": "https://localhost:8080/"
        },
        "id": "F2rwGnpQJxSx",
        "outputId": "24fc2f67-02c2-4963-e041-d2592f2cc333"
      },
      "execution_count": null,
      "outputs": [
        {
          "output_type": "execute_result",
          "data": {
            "text/plain": [
              "1"
            ]
          },
          "metadata": {},
          "execution_count": 4
        }
      ]
    },
    {
      "cell_type": "code",
      "source": [
        "#4. Write a Python program to find largest number in a list?"
      ],
      "metadata": {
        "id": "NqIj_7f0jHhe"
      },
      "execution_count": null,
      "outputs": []
    },
    {
      "cell_type": "code",
      "source": [
        "def is_largest(numbers):\n",
        "  largest=numbers[0]\n",
        "  for i in numbers:\n",
        "    if i>largest:\n",
        "      largest=i\n",
        "  return largest"
      ],
      "metadata": {
        "id": "AIDCCNKoJ_P4"
      },
      "execution_count": null,
      "outputs": []
    },
    {
      "cell_type": "code",
      "source": [
        "is_largest([1,34,6,87])"
      ],
      "metadata": {
        "colab": {
          "base_uri": "https://localhost:8080/"
        },
        "id": "rQlc0fuoKVZD",
        "outputId": "723bbb59-2aa1-4f6e-f3aa-f4d41caa9aa4"
      },
      "execution_count": null,
      "outputs": [
        {
          "output_type": "execute_result",
          "data": {
            "text/plain": [
              "87"
            ]
          },
          "metadata": {},
          "execution_count": 8
        }
      ]
    },
    {
      "cell_type": "code",
      "source": [
        "#5. Write a Python program to find second largest number in a list?"
      ],
      "metadata": {
        "id": "Xk0oQbLajKt_"
      },
      "execution_count": null,
      "outputs": []
    },
    {
      "cell_type": "code",
      "source": [
        "l=[1,23,34,87]\n",
        "l.sort(reverse=True)\n",
        "print(\"sec largest :\",l[1])"
      ],
      "metadata": {
        "colab": {
          "base_uri": "https://localhost:8080/"
        },
        "id": "0LW546LIKgwP",
        "outputId": "0f105b81-b20b-41bb-d06d-025c5ac68e38"
      },
      "execution_count": null,
      "outputs": [
        {
          "output_type": "stream",
          "name": "stdout",
          "text": [
            "sec largest : 34\n"
          ]
        }
      ]
    },
    {
      "cell_type": "code",
      "source": [
        "#6. Write a Python program to find N largest elements from a list?"
      ],
      "metadata": {
        "id": "Xb-eNh70jNtq"
      },
      "execution_count": null,
      "outputs": []
    },
    {
      "cell_type": "code",
      "source": [
        "def find_n_largest(numbers, n):\n",
        "    if len(numbers) < n:\n",
        "        return f\"List should have at least {n} elements\"\n",
        "\n",
        "    sorted_numbers = sorted(numbers, reverse=True)\n",
        "    n_largest_elements = sorted_numbers[:n]\n",
        "\n",
        "    return n_largest_elements\n",
        "\n",
        "# Example usage:\n",
        "numbers_list = [4, 7, 2, 9, 1, 5]\n",
        "n = 3  # Change this to the desired number of largest elements\n",
        "\n",
        "result = find_n_largest(numbers_list, n)\n",
        "\n",
        "if isinstance(result, list):\n",
        "    print(f\"The {n} largest elements in the list are: {result}\")\n",
        "else:\n",
        "    print(result)\n"
      ],
      "metadata": {
        "colab": {
          "base_uri": "https://localhost:8080/"
        },
        "id": "GnOUmLIfQnzB",
        "outputId": "900c6655-e8c6-449e-b4bb-f3670c7bf018"
      },
      "execution_count": null,
      "outputs": [
        {
          "output_type": "stream",
          "name": "stdout",
          "text": [
            "The 3 largest elements in the list are: [9, 7, 5]\n"
          ]
        }
      ]
    },
    {
      "cell_type": "code",
      "source": [
        "#7. Write a Python program to print even numbers in a list?"
      ],
      "metadata": {
        "id": "24Xe0PZwjSj5"
      },
      "execution_count": null,
      "outputs": []
    },
    {
      "cell_type": "code",
      "source": [
        "def check_even(num):\n",
        "  even_num=[i for i in num if i%2==0]\n",
        "  if even_num:\n",
        "    print(\"even num\", even_num)\n",
        "  else:\n",
        "    print(\"no even nums present\")"
      ],
      "metadata": {
        "id": "lbp7fLpqQ7PN"
      },
      "execution_count": null,
      "outputs": []
    },
    {
      "cell_type": "code",
      "source": [
        "check_even([2,3,4,5,6])"
      ],
      "metadata": {
        "colab": {
          "base_uri": "https://localhost:8080/"
        },
        "id": "MzHgCJeaRd89",
        "outputId": "1c4e7e01-3283-4359-c9eb-a69708b98763"
      },
      "execution_count": null,
      "outputs": [
        {
          "output_type": "stream",
          "name": "stdout",
          "text": [
            "even num [2, 4, 6]\n"
          ]
        }
      ]
    },
    {
      "cell_type": "code",
      "source": [
        "#8. Write a Python program to print odd numbers in a List?"
      ],
      "metadata": {
        "id": "A6kqV6czjVgW"
      },
      "execution_count": null,
      "outputs": []
    },
    {
      "cell_type": "code",
      "source": [
        "def check_odd(num):\n",
        "  odd_num=[i for i in num if i%2!=0]\n",
        "  if odd_num:\n",
        "    print(\"odd num\", even_num)\n",
        "  else:\n",
        "    print(\"no odd nums present\")\n",
        "\n",
        "check_odd([2,4,6,8])"
      ],
      "metadata": {
        "colab": {
          "base_uri": "https://localhost:8080/"
        },
        "id": "i9Ex65vARng3",
        "outputId": "be3ded63-0ece-4e99-ae87-fba61f64db1b"
      },
      "execution_count": null,
      "outputs": [
        {
          "output_type": "stream",
          "name": "stdout",
          "text": [
            "no odd nums present\n"
          ]
        }
      ]
    },
    {
      "cell_type": "code",
      "source": [
        "#9. Write a Python program to Remove empty List from List?"
      ],
      "metadata": {
        "id": "TVUZdZwNjYT-"
      },
      "execution_count": null,
      "outputs": []
    },
    {
      "cell_type": "code",
      "source": [
        "l = [[], 12, 31, [1,2, -23] , [1], [], [123.23], [], 2, 321]\n",
        "\n",
        "result = []\n",
        "for i in l:\n",
        "    if type(i) == list:\n",
        "        if len(i) != 0:\n",
        "            result.append(i)\n",
        "    else:\n",
        "        result.append(i)\n",
        "\n",
        "result"
      ],
      "metadata": {
        "colab": {
          "base_uri": "https://localhost:8080/"
        },
        "id": "JCSOdjkagfx9",
        "outputId": "2153be38-a8ff-4497-d060-7cd2f14e7883"
      },
      "execution_count": 16,
      "outputs": [
        {
          "output_type": "execute_result",
          "data": {
            "text/plain": [
              "[12, 31, [1, 2, -23], [1], [123.23], 2, 321]"
            ]
          },
          "metadata": {},
          "execution_count": 16
        }
      ]
    },
    {
      "cell_type": "code",
      "source": [
        "#10. Write a Python program to Cloning or Copying a list?"
      ],
      "metadata": {
        "id": "MRNk6pR5jbPS"
      },
      "execution_count": null,
      "outputs": []
    },
    {
      "cell_type": "code",
      "source": [
        "list1 = [2,1, 31, 3, 412, 3, 4667, [2,3,1]]\n",
        "list2 = []\n",
        "\n",
        "for i in list1:\n",
        "    list2.append(i)\n",
        "\n",
        "print(list2)"
      ],
      "metadata": {
        "colab": {
          "base_uri": "https://localhost:8080/"
        },
        "id": "EAwBbd2agiD-",
        "outputId": "c4a35dc4-6430-4c4d-d254-775fd78d740e"
      },
      "execution_count": 17,
      "outputs": [
        {
          "output_type": "stream",
          "name": "stdout",
          "text": [
            "[2, 1, 31, 3, 412, 3, 4667, [2, 3, 1]]\n"
          ]
        }
      ]
    },
    {
      "cell_type": "code",
      "source": [
        "#11. Write a Python program to Count occurrences of an element in a list?"
      ],
      "metadata": {
        "id": "tqFe8a_3jeDj"
      },
      "execution_count": null,
      "outputs": []
    },
    {
      "cell_type": "code",
      "source": [
        "l = [1,1,1, 3, 4, 1, 7, 8, 6,6,2,1]\n",
        "\n",
        "def occurrences(lst, element):\n",
        "    count = 0\n",
        "    for i in lst:\n",
        "        if i == element:\n",
        "            count += 1\n",
        "\n",
        "    return count\n",
        "occurrences(l,6)"
      ],
      "metadata": {
        "colab": {
          "base_uri": "https://localhost:8080/"
        },
        "id": "GWgVKYHGgo4B",
        "outputId": "bba48240-c3df-47fe-9c7a-7ce7641216a9"
      },
      "execution_count": 18,
      "outputs": [
        {
          "output_type": "execute_result",
          "data": {
            "text/plain": [
              "2"
            ]
          },
          "metadata": {},
          "execution_count": 18
        }
      ]
    },
    {
      "cell_type": "code",
      "source": [],
      "metadata": {
        "id": "DKOlxe2RgzYB"
      },
      "execution_count": null,
      "outputs": []
    }
  ]
}